{
 "cells": [
  {
   "cell_type": "code",
   "execution_count": 11,
   "metadata": {},
   "outputs": [
    {
     "data": {
      "text/html": [
       "<div>\n",
       "<style scoped>\n",
       "    .dataframe tbody tr th:only-of-type {\n",
       "        vertical-align: middle;\n",
       "    }\n",
       "\n",
       "    .dataframe tbody tr th {\n",
       "        vertical-align: top;\n",
       "    }\n",
       "\n",
       "    .dataframe thead th {\n",
       "        text-align: right;\n",
       "    }\n",
       "</style>\n",
       "<table border=\"1\" class=\"dataframe\">\n",
       "  <thead>\n",
       "    <tr style=\"text-align: right;\">\n",
       "      <th></th>\n",
       "      <th>token</th>\n",
       "      <th>count</th>\n",
       "    </tr>\n",
       "  </thead>\n",
       "  <tbody>\n",
       "    <tr>\n",
       "      <th>0</th>\n",
       "      <td>pince</td>\n",
       "      <td>5790</td>\n",
       "    </tr>\n",
       "    <tr>\n",
       "      <th>1</th>\n",
       "      <td>de</td>\n",
       "      <td>3970</td>\n",
       "    </tr>\n",
       "    <tr>\n",
       "      <th>2</th>\n",
       "      <td>à</td>\n",
       "      <td>3431</td>\n",
       "    </tr>\n",
       "    <tr>\n",
       "      <th>3</th>\n",
       "      <td>TRIAL</td>\n",
       "      <td>3365</td>\n",
       "    </tr>\n",
       "    <tr>\n",
       "      <th>4</th>\n",
       "      <td>(</td>\n",
       "      <td>2746</td>\n",
       "    </tr>\n",
       "    <tr>\n",
       "      <th>5</th>\n",
       "      <td>)</td>\n",
       "      <td>2744</td>\n",
       "    </tr>\n",
       "    <tr>\n",
       "      <th>6</th>\n",
       "      <td>griffes</td>\n",
       "      <td>2432</td>\n",
       "    </tr>\n",
       "    <tr>\n",
       "      <th>7</th>\n",
       "      <td>,</td>\n",
       "      <td>2276</td>\n",
       "    </tr>\n",
       "    <tr>\n",
       "      <th>8</th>\n",
       "      <td>pour</td>\n",
       "      <td>2186</td>\n",
       "    </tr>\n",
       "    <tr>\n",
       "      <th>9</th>\n",
       "      <td>TRL</td>\n",
       "      <td>2104</td>\n",
       "    </tr>\n",
       "  </tbody>\n",
       "</table>\n",
       "</div>"
      ],
      "text/plain": [
       "     token  count\n",
       "0    pince   5790\n",
       "1       de   3970\n",
       "2        à   3431\n",
       "3    TRIAL   3365\n",
       "4        (   2746\n",
       "5        )   2744\n",
       "6  griffes   2432\n",
       "7        ,   2276\n",
       "8     pour   2186\n",
       "9      TRL   2104"
      ]
     },
     "execution_count": 11,
     "metadata": {},
     "output_type": "execute_result"
    }
   ],
   "source": [
    "import pandas as pd\n",
    "\n",
    "# Load the data, the data is encapsulated in double quotes\n",
    "header = ['token', 'count']\n",
    "token_data = pd.read_csv('output/token_dict.csv', encoding='utf-8', quotechar='\"', sep=';', names=header)\n",
    "\n",
    "# Display the first few rows of the data\n",
    "token_data.head(10)\n"
   ]
  },
  {
   "cell_type": "code",
   "execution_count": 34,
   "metadata": {},
   "outputs": [],
   "source": [
    "# filter the data to only include tokens with more than 3 characters\n",
    "forbidden_words = [\"pour\",\"avec\",\"dans\",\"plus\",\"sont\",\"leur\",\"dont\",\"leurs\",\"entre\",\"aussi\",\"fait\",\"cette\",\"ainsi\",\"être\",\"ces\",\"dont\",\"do\",'sans','sous','sur','tout','tous','toutes','toute','toute','tous']\n",
    "_filterd_data = token_data[token_data['token'].str.len() > 3]\n",
    "# remove the forbidden words\n",
    "filtered_data = _filterd_data[~_filterd_data['token'].isin(forbidden_words)]\n",
    "# remove lines that start with 'L:' and store them in a new dataframe\n",
    "filtered_data = filtered_data[~filtered_data['token'].str.startswith('L:')]\n",
    "\n",
    "# export the top 50 tokens to a csv file\n",
    "top_tokens = filtered_data.sort_values(by=['count'], ascending=False).head(100)\n",
    "top_tokens.to_csv('output/top_tokens.csv', sep=';', encoding='utf-8')\n",
    "\n",
    "\n",
    "# top_tokens = filtered_data.sort_values(by=['count'], ascending=False).head(30)\n",
    "# top_tokens"
   ]
  },
  {
   "cell_type": "code",
   "execution_count": null,
   "metadata": {},
   "outputs": [],
   "source": [
    "# filter the dimensions from the tokens\n"
   ]
  }
 ],
 "metadata": {
  "kernelspec": {
   "display_name": "Python 3",
   "language": "python",
   "name": "python3"
  },
  "language_info": {
   "codemirror_mode": {
    "name": "ipython",
    "version": 3
   },
   "file_extension": ".py",
   "mimetype": "text/x-python",
   "name": "python",
   "nbconvert_exporter": "python",
   "pygments_lexer": "ipython3",
   "version": "3.11.6"
  }
 },
 "nbformat": 4,
 "nbformat_minor": 2
}
