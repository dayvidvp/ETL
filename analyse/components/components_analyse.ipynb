{
 "cells": [
  {
   "cell_type": "markdown",
   "id": "5c15237f",
   "metadata": {},
   "source": [
    "## Load the paramaters and imports and set some variables\n"
   ]
  },
  {
   "cell_type": "code",
   "execution_count": 2,
   "id": "20a3e139-9657-4da6-96de-b318a9a0e4a2",
   "metadata": {
    "pycharm": {
     "name": "#%%\n"
    }
   },
   "outputs": [
    {
     "name": "stdout",
     "output_type": "stream",
     "text": [
      "Connected to SQL Server STRDVPDBSQL01 and table masterdata_steam\n",
      "using pandas version 2.1.1\n"
     ]
    }
   ],
   "source": [
    "from fuzzywuzzy import fuzz\n",
    "from loguru import logger\n",
    "import pandas as pd\n",
    "import pyodbc\n",
    "\n",
    "global MSSQL_SERVER\n",
    "global DATABASE_NAME\n",
    "MSSQL_SERVER = \"STRDVPDBSQL01\"\n",
    "DATABASE_NAME = \"masterdata_steam\"\n",
    "conn = pyodbc.connect(\n",
    "    \"DRIVER={SQL Server};SERVER=\"\n",
    "    + MSSQL_SERVER\n",
    "    + \";DATABASE=\"\n",
    "    + DATABASE_NAME\n",
    "    + \";Trusted_Connection=yes\",\n",
    "    timeout=15,\n",
    ")\n",
    "print(f\"Connected to SQL Server {MSSQL_SERVER} and table {DATABASE_NAME}\")\n",
    "print(f\"using pandas version {pd.__version__}\")"
   ]
  },
  {
   "cell_type": "markdown",
   "id": "19f6cdfc",
   "metadata": {},
   "source": [
    "### Querry used to get the data\n"
   ]
  },
  {
   "cell_type": "code",
   "execution_count": 3,
   "id": "b556fd14-949f-46b2-802a-706991f8e040",
   "metadata": {
    "pycharm": {
     "name": "#%%\n"
    }
   },
   "outputs": [],
   "source": [
    "def load_components_from_sql() -> pd.DataFrame:\n",
    "    cursor = conn.cursor()\n",
    "    query = \"\"\"\n",
    "    SELECT DISTINCT\n",
    "\tcomp.[Server]\n",
    "    ,comp.[internal_article_number]\n",
    "    ,comp.[article_hash]\n",
    "    ,comp.[componentname]\n",
    "    ,comp.[componentidentifier]\n",
    "    ,comp.[manufacturer]\n",
    "    ,comp.[manufacturer_description]\n",
    "    ,comp.[component_erpreferencenumber]\n",
    "    ,comp.[implant]\n",
    "    FROM [masterdata_steam].[dbo].[Components] comp\n",
    "\tJOIN dbo.TPI_content tpic ON tpic.article_hash = comp.article_hash\n",
    "\tJOIN dbo.TPI tp ON tp.tpi_hash = tpic.tpi_hash AND tp.deleted = 0\n",
    "    order by comp.[Server]\n",
    "    \"\"\"\n",
    "    with conn:\n",
    "        cursor.execute(query)\n",
    "        query_result = [\n",
    "            dict(line)\n",
    "            for line in [\n",
    "                zip([column[0] for column in cursor.description], row)\n",
    "                for row in cursor.fetchall()\n",
    "            ]\n",
    "        ]\n",
    "        df = query_result\n",
    "\n",
    "    return df"
   ]
  },
  {
   "cell_type": "code",
   "execution_count": 4,
   "id": "bb0e01a0",
   "metadata": {},
   "outputs": [],
   "source": [
    "def load_component_packingnotes_from_sql() -> pd.DataFrame:\n",
    "    cursor = conn.cursor()\n",
    "    query = \"\"\"\n",
    "    --begin-sql\n",
    "    SELECT article_hash,\n",
    "    packingnote\n",
    "    FROM [masterdata_steam].[dbo].[Component_packingnote]\n",
    "    --end-sql\n",
    "    \"\"\"\n",
    "    with conn:\n",
    "        cursor.execute(query)\n",
    "        query_result = [\n",
    "            dict(line)\n",
    "            for line in [\n",
    "                zip([column[0] for column in cursor.description], row)\n",
    "                for row in cursor.fetchall()\n",
    "            ]\n",
    "        ]\n",
    "        df = query_result\n",
    "    return df"
   ]
  },
  {
   "cell_type": "code",
   "execution_count": 5,
   "id": "86727380",
   "metadata": {},
   "outputs": [],
   "source": [
    "def load_component_process_instructions_from_sql() -> pd.DataFrame:\n",
    "    cursor = conn.cursor()\n",
    "    query = \"\"\"\n",
    "    --begin-sql\n",
    "    SELECT compi.article_hash,\n",
    "    compi.instruction_code,\n",
    "    proci.Language,\n",
    "    proci.Description FROM dbo.component_process_instructions compi\n",
    "    LEFT JOIN dbo.ProcessInstructions_Desc proci ON compi.instruction_code = proci.Code\n",
    "    --end-sql\n",
    "    \"\"\"\n",
    "    with conn:\n",
    "        cursor.execute(query)\n",
    "        query_result = [\n",
    "            dict(line)\n",
    "            for line in [\n",
    "                zip([column[0] for column in cursor.description], row)\n",
    "                for row in cursor.fetchall()\n",
    "            ]\n",
    "        ]\n",
    "        df = query_result\n",
    "    return df"
   ]
  },
  {
   "cell_type": "code",
   "execution_count": 6,
   "id": "31fcf2a2",
   "metadata": {},
   "outputs": [],
   "source": [
    "def load_component_assembly_from_sql() -> pd.DataFrame:\n",
    "    cursor = conn.cursor()\n",
    "    query = \"\"\"\n",
    "    --begin-sql\n",
    "        SELECT\tserver,\n",
    "        customertoken,\n",
    "        tpi_objectno,\n",
    "        tpi_revision,\n",
    "        compound_article_hash,\n",
    "        article_hash,\n",
    "        position,\n",
    "        pieces,\n",
    "        quantity FROM dbo.component_assembly\n",
    "    --end-sql\n",
    "    \"\"\"\n",
    "    with conn:\n",
    "        cursor.execute(query)\n",
    "        query_result = [\n",
    "            dict(line)\n",
    "            for line in [\n",
    "                zip([column[0] for column in cursor.description], row)\n",
    "                for row in cursor.fetchall()\n",
    "            ]\n",
    "        ]\n",
    "        df = query_result\n",
    "    return df"
   ]
  },
  {
   "cell_type": "code",
   "execution_count": 7,
   "id": "126b178c",
   "metadata": {},
   "outputs": [],
   "source": [
    "def load_component_tpi_content_from_sql() -> pd.DataFrame:\n",
    "    cursor = conn.cursor()\n",
    "    query = \"\"\"\n",
    "    --begin-sql\n",
    "    SELECT t.Server,\n",
    "    t.Customertoken,\n",
    "    t.tpi_erpreferencenumber,\n",
    "    tra.trayname,\n",
    "    tcon.article_hash,\n",
    "    tcon.quantity\n",
    "    FROM tpi t\n",
    "    LEFT JOIN dbo.TPI_content tcon ON tcon.tpi_hash = t.tpi_hash\n",
    "    LEFT JOIN dbo.traylist tra ON tra.tpi_objectno = t.tpi_Objectno\n",
    "    WHERE tcon.workplan = 0 AND t.deleted = 0\n",
    "    ORDER BY t.Server, t.tpi_erpreferencenumber,tra.trayname\n",
    "    --end-sql\n",
    "    \"\"\"\n",
    "    with conn:\n",
    "        cursor.execute(query)\n",
    "        query_result = [\n",
    "            dict(line)\n",
    "            for line in [\n",
    "                zip([column[0] for column in cursor.description], row)\n",
    "                for row in cursor.fetchall()\n",
    "            ]\n",
    "        ]\n",
    "        df = query_result\n",
    "    return df"
   ]
  },
  {
   "cell_type": "markdown",
   "id": "b974283f",
   "metadata": {},
   "source": [
    "### components/packingnotes/processinstructions"
   ]
  },
  {
   "cell_type": "code",
   "execution_count": 8,
   "id": "005edd14-9d42-41a7-836e-ae5ec21d7bf9",
   "metadata": {
    "pycharm": {
     "name": "#%%\n"
    }
   },
   "outputs": [
    {
     "name": "stdout",
     "output_type": "stream",
     "text": [
      "74343 components loaded\n"
     ]
    }
   ],
   "source": [
    "_components_df = pd.DataFrame(load_components_from_sql())\n",
    "print(f\"{len(_components_df)} components loaded\")"
   ]
  },
  {
   "cell_type": "code",
   "execution_count": 9,
   "id": "749a8424",
   "metadata": {},
   "outputs": [
    {
     "name": "stdout",
     "output_type": "stream",
     "text": [
      "28516 component process instructions loaded\n"
     ]
    }
   ],
   "source": [
    "_comp_process_instructions_df = pd.DataFrame(load_component_process_instructions_from_sql())\n",
    "print(f\"{len(_comp_process_instructions_df)} component process instructions loaded\")"
   ]
  },
  {
   "cell_type": "code",
   "execution_count": 10,
   "id": "9e8b5d47",
   "metadata": {},
   "outputs": [
    {
     "name": "stdout",
     "output_type": "stream",
     "text": [
      "12397 components packingnotes loaded\n"
     ]
    }
   ],
   "source": [
    "_components_packingnotes_df = pd.DataFrame(load_component_packingnotes_from_sql())\n",
    "print(f\"{len(_components_packingnotes_df)} components packingnotes loaded\")"
   ]
  },
  {
   "cell_type": "code",
   "execution_count": 11,
   "id": "20586aac",
   "metadata": {},
   "outputs": [
    {
     "name": "stdout",
     "output_type": "stream",
     "text": [
      "23984 components assembly loaded\n"
     ]
    }
   ],
   "source": [
    "_components_assembly_df = pd.DataFrame(load_component_assembly_from_sql())\n",
    "print(f\"{len(_components_assembly_df)} components assembly loaded\")"
   ]
  },
  {
   "cell_type": "code",
   "execution_count": 8,
   "id": "6f4fd8a4",
   "metadata": {},
   "outputs": [
    {
     "name": "stdout",
     "output_type": "stream",
     "text": [
      "292282 components tpi content loaded\n"
     ]
    }
   ],
   "source": [
    "_components_tpi_content_df = pd.DataFrame(load_component_tpi_content_from_sql())\n",
    "print(f\"{len(_components_tpi_content_df)} components tpi content loaded\")"
   ]
  },
  {
   "cell_type": "markdown",
   "id": "d8ccedcd",
   "metadata": {},
   "source": [
    "## Manufacturers\n",
    "\n",
    "- create dataframe from the grouped manufacturers\n",
    "- create a csv document with the data\n"
   ]
  },
  {
   "cell_type": "code",
   "execution_count": 13,
   "id": "6fd19063-fa1f-4d96-8283-bf23a0ad56e1",
   "metadata": {
    "pycharm": {
     "name": "#%%\n"
    }
   },
   "outputs": [],
   "source": [
    "manufacturers = (\n",
    "    _components_df.groupby([\"manufacturer_description\"])[\"manufacturer_description\"]\n",
    "    .count()\n",
    "    .sort_values(ascending=False)\n",
    ")\n",
    "manufacturers.explode().to_csv(\n",
    "    \"output/manufacturer_count.csv\",\n",
    "    sep=\";\",\n",
    "    index_label=[\"manufacturer_description\", \"count\"],\n",
    "    encoding=\"utf-8\",\n",
    ")"
   ]
  },
  {
   "cell_type": "code",
   "execution_count": 14,
   "id": "769d1df1",
   "metadata": {},
   "outputs": [
    {
     "name": "stdout",
     "output_type": "stream",
     "text": [
      "679 manufacturers with less than 10 components\n"
     ]
    },
    {
     "data": {
      "image/png": "[encoded data removed]",
      "text/plain": [
       "<Figure size 1500x1500 with 1 Axes>"
      ]
     },
     "metadata": {},
     "output_type": "display_data"
    }
   ],
   "source": [
    "from matplotlib import pyplot as plt\n",
    "\n",
    "\n",
    "_df_manufacturer_count = manufacturers.sort_values(ascending=False).explode().to_frame()\n",
    "\n",
    "_manufacturers_with_low_component_count = _df_manufacturer_count.where(_df_manufacturer_count < 10).dropna()\n",
    "_manufacturers_with_low_component_count.to_csv(\"output/manufacturer_with_low_component_count.csv\",\n",
    "    sep=\";\",\n",
    "    index_label=[\"manufacturer_description\", \"count\"],\n",
    "    encoding=\"utf-8\",\n",
    ")\n",
    "print(f\"{len(_manufacturers_with_low_component_count)} manufacturers with less than 10 components\")\n",
    "\n",
    "# show the top 10 manufacturers with count in a pie chart and also show the count\n",
    "plt.figure(figsize=(15, 15))\n",
    "plt.pie(\n",
    "manufacturers[:10],\n",
    "    labels=manufacturers[:10].index,\n",
    "    # show the count, not the percentage\n",
    "    autopct=lambda p: \"{:.0f}\".format(p * sum(manufacturers[:10]) / 100),\n",
    "    startangle=140,\n",
    ")\n",
    "plt.title(\"Top 10 manufacturers\")\n",
    "plt.show()"
   ]
  },
  {
   "cell_type": "markdown",
   "id": "3c484df3",
   "metadata": {
    "pycharm": {
     "name": "#%% md\n"
    }
   },
   "source": [
    "## find similar manufacturers\n"
   ]
  },
  {
   "cell_type": "code",
   "execution_count": 15,
   "id": "6c251286",
   "metadata": {
    "pycharm": {
     "name": "#%%\n"
    }
   },
   "outputs": [
    {
     "name": "stdout",
     "output_type": "stream",
     "text": [
      "991 manufacturers to check\n",
      "289 similar manufacturers found with 85% similarity\n"
     ]
    }
   ],
   "source": [
    "from collections import deque\n",
    "from functools import lru_cache\n",
    "\n",
    "\n",
    "@lru_cache()\n",
    "def process_manufacturers():\n",
    "    _similar_manufacturers = {}\n",
    "    _count = len(manufacturers)\n",
    "\n",
    "    print(f\"{_count} manufacturers to check\")\n",
    "    _ratio: int = 85\n",
    "    _queue_one = deque(manufacturers.keys())\n",
    "\n",
    "    # compare all manufacturers with each other and pop them from the queue if they are similar\n",
    "    for _ in range(_count):\n",
    "        _queue_len = len(_queue_one)\n",
    "        if _queue_len == 0:\n",
    "            break\n",
    "        _manufacturer_one = _queue_one.popleft()\n",
    "\n",
    "        for _manufacturer_two in _queue_one:\n",
    "            _similarity = fuzz.WRatio(_manufacturer_one, _manufacturer_two)\n",
    "            if _similarity >= _ratio:\n",
    "                if _manufacturer_one not in _similar_manufacturers:\n",
    "                    _similar_manufacturers[_manufacturer_one] = []\n",
    "                    # print(f\"L1: create {_manufacturer_one}\",end=\"\\r\")\n",
    "                if _manufacturer_two not in _similar_manufacturers[_manufacturer_one]:\n",
    "                    _similar_manufacturers[_manufacturer_one].append(_manufacturer_two)\n",
    "                    # print(f\"L2: {_manufacturer_one} and {_manufacturer_two} are similar with {_similarity}% queue len: {_queue_len}\",end=\"\\r\")\n",
    "                _queue_one.remove((_manufacturer_two))\n",
    "                break\n",
    "\n",
    "    df_similar_manufacturers = pd.DataFrame.from_dict(\n",
    "        _similar_manufacturers, orient=\"index\"\n",
    "    )\n",
    "    df_similar_manufacturers.to_csv(\n",
    "        f\"output/similar_manufacturers_with{_ratio}_ratio.csv\",\n",
    "        sep=\";\",\n",
    "        encoding=\"utf-8\",\n",
    "        index_label=[\"manufacturer_description\", \"similar_manufacturer_description\"],\n",
    "    )\n",
    "    print(\n",
    "        f\"{len(df_similar_manufacturers)} similar manufacturers found with {_ratio}% similarity\"\n",
    "    )\n",
    "process_manufacturers()"
   ]
  },
  {
   "cell_type": "code",
   "execution_count": 16,
   "id": "8c41e8bf",
   "metadata": {},
   "outputs": [],
   "source": [
    "# output all the manufacturers\n",
    "manufacturers.to_csv(\n",
    "    \"output/manufacturers.csv\",\n",
    "    sep=\";\",\n",
    "    encoding=\"utf-8\",\n",
    "    index_label=[\"manufacturer_description\"],\n",
    ")\n"
   ]
  },
  {
   "cell_type": "code",
   "execution_count": 17,
   "metadata": {},
   "outputs": [
    {
     "ename": "TypeError",
     "evalue": "DataFrame.sort_values() missing 1 required positional argument: 'by'",
     "output_type": "error",
     "traceback": [
      "\u001b[1;31m---------------------------------------------------------------------------\u001b[0m",
      "\u001b[1;31mTypeError\u001b[0m                                 Traceback (most recent call last)",
      "\u001b[1;32md:\\sterima\\ETL_masterdata\\analyse\\components\\components_analyse.ipynb Cell 21\u001b[0m line \u001b[0;36m5\n\u001b[0;32m      <a href='vscode-notebook-cell:/d%3A/sterima/ETL_masterdata/analyse/components/components_analyse.ipynb#X26sZmlsZQ%3D%3D?line=1'>2</a>\u001b[0m wedge_sizes \u001b[39m=\u001b[39m _manufacturers_with_low_component_count[\u001b[39m\"\u001b[39m\u001b[39mmanufacturer_description\u001b[39m\u001b[39m\"\u001b[39m]\u001b[39m.\u001b[39mvalues\n\u001b[0;32m      <a href='vscode-notebook-cell:/d%3A/sterima/ETL_masterdata/analyse/components/components_analyse.ipynb#X26sZmlsZQ%3D%3D?line=3'>4</a>\u001b[0m \u001b[39m# Sort the data by the values in ascending order\u001b[39;00m\n\u001b[1;32m----> <a href='vscode-notebook-cell:/d%3A/sterima/ETL_masterdata/analyse/components/components_analyse.ipynb#X26sZmlsZQ%3D%3D?line=4'>5</a>\u001b[0m sorted_data \u001b[39m=\u001b[39m _manufacturers_with_low_component_count\u001b[39m.\u001b[39;49msort_values(ascending\u001b[39m=\u001b[39;49m\u001b[39mTrue\u001b[39;49;00m)\n\u001b[0;32m      <a href='vscode-notebook-cell:/d%3A/sterima/ETL_masterdata/analyse/components/components_analyse.ipynb#X26sZmlsZQ%3D%3D?line=6'>7</a>\u001b[0m \u001b[39m# Select the lowest 10 values\u001b[39;00m\n\u001b[0;32m      <a href='vscode-notebook-cell:/d%3A/sterima/ETL_masterdata/analyse/components/components_analyse.ipynb#X26sZmlsZQ%3D%3D?line=7'>8</a>\u001b[0m lowest_10 \u001b[39m=\u001b[39m sorted_data\u001b[39m.\u001b[39mhead(\u001b[39m10\u001b[39m)\n",
      "\u001b[1;31mTypeError\u001b[0m: DataFrame.sort_values() missing 1 required positional argument: 'by'"
     ]
    }
   ],
   "source": [
    "# Assuming you want to create a pie chart based on the 'column_name' column of the DataFrame\n",
    "wedge_sizes = _manufacturers_with_low_component_count[\"manufacturer_description\"].values\n",
    "\n",
    "# Sort the data by the values in ascending order\n",
    "sorted_data = _manufacturers_with_low_component_count.sort_values(ascending=True)\n",
    "\n",
    "# Select the lowest 10 values\n",
    "lowest_10 = sorted_data.head(10)\n",
    "\n",
    "# Create a pie chart for the lowest 10 values\n",
    "plt.figure(figsize=(15, 15))\n",
    "plt.pie(\n",
    "    lowest_10,\n",
    "    labels=lowest_10.index,\n",
    "    autopct=lambda p: \"{:.0f}\".format(p * lowest_10.sum() / 100),\n",
    "    startangle=140,\n",
    ")\n",
    "plt.title(\"Manufacturers with the lowest 10 components\")\n",
    "plt.show()\n"
   ]
  },
  {
   "cell_type": "markdown",
   "id": "0846988c",
   "metadata": {},
   "source": [
    "### Components Analyse"
   ]
  },
  {
   "cell_type": "code",
   "execution_count": 9,
   "id": "1de8bddc",
   "metadata": {},
   "outputs": [
    {
     "ename": "NameError",
     "evalue": "name '_components_df' is not defined",
     "output_type": "error",
     "traceback": [
      "\u001b[1;31m---------------------------------------------------------------------------\u001b[0m",
      "\u001b[1;31mNameError\u001b[0m                                 Traceback (most recent call last)",
      "\u001b[1;32md:\\sterima\\ETL_masterdata\\analyse\\components\\components_analyse.ipynb Cell 23\u001b[0m line \u001b[0;36m1\n\u001b[1;32m----> <a href='vscode-notebook-cell:/d%3A/sterima/ETL_masterdata/analyse/components/components_analyse.ipynb#X31sZmlsZQ%3D%3D?line=0'>1</a>\u001b[0m _components_df\u001b[39m.\u001b[39mquery(\u001b[39m\"\u001b[39m\u001b[39mcomponentidentifier.str.startswith(\u001b[39m\u001b[39m'\u001b[39m\u001b[39mGR\u001b[39m\u001b[39m'\u001b[39m\u001b[39m)\u001b[39m\u001b[39m\"\u001b[39m)\u001b[39m.\u001b[39mto_csv(\u001b[39m\"\u001b[39m\u001b[39moutput/components_with_gr.csv\u001b[39m\u001b[39m\"\u001b[39m, sep\u001b[39m=\u001b[39m\u001b[39m\"\u001b[39m\u001b[39m;\u001b[39m\u001b[39m\"\u001b[39m, encoding\u001b[39m=\u001b[39m\u001b[39m\"\u001b[39m\u001b[39mutf-8\u001b[39m\u001b[39m\"\u001b[39m)\n\u001b[0;32m      <a href='vscode-notebook-cell:/d%3A/sterima/ETL_masterdata/analyse/components/components_analyse.ipynb#X31sZmlsZQ%3D%3D?line=1'>2</a>\u001b[0m _components_df\u001b[39m.\u001b[39mquery(\u001b[39m\"\u001b[39m\u001b[39mcomponentidentifier.str.startswith(\u001b[39m\u001b[39m'\u001b[39m\u001b[39mIR\u001b[39m\u001b[39m'\u001b[39m\u001b[39m)\u001b[39m\u001b[39m\"\u001b[39m)\u001b[39m.\u001b[39mto_csv(\u001b[39m\"\u001b[39m\u001b[39moutput/components_with_ir.csv\u001b[39m\u001b[39m\"\u001b[39m, sep\u001b[39m=\u001b[39m\u001b[39m\"\u001b[39m\u001b[39m;\u001b[39m\u001b[39m\"\u001b[39m, encoding\u001b[39m=\u001b[39m\u001b[39m\"\u001b[39m\u001b[39mutf-8\u001b[39m\u001b[39m\"\u001b[39m)\n\u001b[0;32m      <a href='vscode-notebook-cell:/d%3A/sterima/ETL_masterdata/analyse/components/components_analyse.ipynb#X31sZmlsZQ%3D%3D?line=3'>4</a>\u001b[0m _unique_componentidentifiers \u001b[39m=\u001b[39m _components_df\u001b[39m.\u001b[39mgroupby([\u001b[39m\"\u001b[39m\u001b[39mcomponentidentifier\u001b[39m\u001b[39m\"\u001b[39m])[\u001b[39m\"\u001b[39m\u001b[39mcomponentidentifier\u001b[39m\u001b[39m\"\u001b[39m]\u001b[39m.\u001b[39mcount()\n",
      "\u001b[1;31mNameError\u001b[0m: name '_components_df' is not defined"
     ]
    }
   ],
   "source": [
    "_components_df.query(\"componentidentifier.str.startswith('GR')\").to_csv(\"output/components_with_gr.csv\", sep=\";\", encoding=\"utf-8\")\n",
    "_components_df.query(\"componentidentifier.str.startswith('IR')\").to_csv(\"output/components_with_ir.csv\", sep=\";\", encoding=\"utf-8\")\n",
    "\n",
    "_unique_componentidentifiers = _components_df.groupby([\"componentidentifier\"])[\"componentidentifier\"].count()\n",
    "_unique_componentidentifiers_dict = (_unique_componentidentifiers.sort_values(ascending=False).explode().to_dict())\n",
    "_unique_componentidentifiers_df = pd.DataFrame.from_dict(_unique_componentidentifiers_dict, orient=\"index\", columns=[\"componentidentifier\"])\n",
    "\n",
    "_unique_componentidentifiers_df.to_csv(\n",
    "    \"output/componentidentifier_count.csv\",\n",
    "    sep=\";\",\n",
    "    index_label=[\"componentidentifier\", \"count\"],\n",
    "    encoding=\"utf-8\",\n",
    ")\n",
    "\n",
    "print(f\"{len(_unique_componentidentifiers)} unique componentidentifiers found\")\n"
   ]
  },
  {
   "cell_type": "code",
   "execution_count": null,
   "id": "ee2eb58d",
   "metadata": {},
   "outputs": [],
   "source": [
    "# filter the componentidentifiers\n",
    "_filterd_component_identifiers = _components_df.copy()\n",
    "\n",
    "_filterd_component_identifiers = _filterd_component_identifiers[\n",
    "    ~(_filterd_component_identifiers[\"componentidentifier\"].str.startswith(\"GR\"))\n",
    "    & ~(_filterd_component_identifiers[\"componentidentifier\"].str.startswith(\"IR\"))\n",
    "    # & ~(_filterd_component_identifiers['componentidentifier'].str.startswith('Unk'))\n",
    "    # & ~(_filterd_component_identifiers['componentidentifier'].str.startswith('unknown'))\n",
    "    # & ~(_filterd_component_identifiers['componentidentifier'].str.startswith('Unknown'))\n",
    "    # & ~(_filterd_component_identifiers['componentidentifier'].str.startswith('unk'))\n",
    "]\n",
    "_filterd_component_identifiers.to_csv(\"output/components_without_gr_ir.csv\",sep=\";\",index_label=[\"componentidentifier\", \"count\"],encoding=\"utf-8\")\n",
    "\n",
    "_filterd_component_identifiers.drop(columns=[\"manufacturer\"], inplace=True)\n",
    "_filterd_component_identifiers.drop(columns=[\"implant\"], inplace=True)\n",
    "_filterd_component_identifiers.drop(columns=[\"component_erpreferencenumber\"], inplace=True)\n",
    "\n",
    "print(f\"{len(_filterd_component_identifiers)} components without GR and IR\")"
   ]
  },
  {
   "cell_type": "code",
   "execution_count": null,
   "id": "0900a5a8",
   "metadata": {},
   "outputs": [],
   "source": [
    "duplicate_components = _components_df.groupby('componentname')['componentidentifier'].unique().reset_index()\n",
    "\n",
    "# Filter the groups where there are multiple unique 'componentidentifier' values\n",
    "duplicate_components = duplicate_components[duplicate_components['componentidentifier'].apply(len) > 1]\n",
    "\n",
    "# Now, 'duplicate_components' contains rows where component names have different identifiers\n",
    "print(f\"{len(duplicate_components)} components with multiple identifiers\")\n",
    "\n",
    "duplicate_components.to_csv(\"output/duplicate_components.csv\",sep=\";\",index_label=[\"componentname\", \"componentidentifier\"],encoding=\"utf-8\")"
   ]
  },
  {
   "cell_type": "code",
   "execution_count": null,
   "id": "28a3f899",
   "metadata": {},
   "outputs": [],
   "source": [
    "# get only the unique trays per customertoken\n",
    "_unique_trays_per_customertoken = _components_tpi_content_df.groupby([\"Customertoken\"])[\"trayname\"].unique()\n",
    "_unique_trays_per_customertoken.to_csv(\"output/unique_trays_per_customertoken.csv\",sep=\";\",index_label=[\"Customertoken\", \"trayname\"],encoding=\"utf-8\")"
   ]
  },
  {
   "cell_type": "code",
   "execution_count": null,
   "id": "ef5a0fa6",
   "metadata": {},
   "outputs": [],
   "source": [
    "#make a piechart with the trays per customertoken\n",
    "from matplotlib import pyplot as plt\n",
    "\n",
    "data_unique = {\n",
    "    'CustomerToken': _unique_trays_per_customertoken.index,\n",
    "    'Trays': _unique_trays_per_customertoken.values\n",
    "}\n",
    "df = pd.DataFrame(data_unique)\n",
    "# Calculate the tray count for each customer\n",
    "df['TrayCount'] = df['Trays'].apply(len)\n",
    "\n",
    "# Create a pie chart\n",
    "plt.figure(figsize=(12, 6))\n",
    "plt.subplot(1, 2, 1)  # Create a subplot for the pie chart\n",
    "plt.pie(df['TrayCount'], labels=df['CustomerToken'], autopct='%1.1f%%', startangle=140)\n",
    "plt.title('Tray Distribution by Customer')\n",
    "plt.axis('equal')  # Equal aspect ratio ensures that pie is drawn as a circle.\n",
    "\n",
    "# Create a bar chart\n",
    "plt.subplot(1, 2, 2)  # Create a subplot for the bar chart\n",
    "bars = plt.bar(df['CustomerToken'], df['TrayCount'])\n",
    "plt.xlabel('Customer Token')\n",
    "plt.ylabel('Tray Count')\n",
    "plt.title('Tray Count by Customer')\n",
    "\n",
    "# Rotate x-axis labels for better readability\n",
    "plt.xticks(rotation=90)\n",
    "\n",
    "# Add count values above the bars\n",
    "for bar, count in zip(bars, df['TrayCount']):\n",
    "    plt.text(bar.get_x() + bar.get_width() / 2, bar.get_height() + 10, str(count), ha='center')\n",
    "\n",
    "# Adjust figure size\n",
    "plt.gcf().set_size_inches(16, 6)\n",
    "\n",
    "# Adjust layout spacing\n",
    "plt.tight_layout()\n",
    "\n",
    "# Show both charts\n",
    "plt.show()"
   ]
  },
  {
   "cell_type": "code",
   "execution_count": null,
   "id": "56827f71",
   "metadata": {},
   "outputs": [],
   "source": [
    "# count the unique componentidentifiers per customertoken\n",
    "_unique_componentidentifiers_per_customertoken_count = _components_tpi_content_df.groupby([\"Customertoken\"])[\"article_hash\"].nunique()\n",
    "# count the number of components per customertoken\n",
    "# _components_per_customertoken_count = _components_tpi_content_df.groupby([\"Customertoken\"])[\"article_hash\"].count()\n",
    "\n",
    "# we need the sum of the quantity per customertoken\n",
    "_components_per_customertoken_count = _components_tpi_content_df.groupby([\"Customertoken\"])[\"quantity\"].sum()\n",
    "\n",
    "# make a piechart with the unique componentidentifiers per customertoken\n",
    "from matplotlib import pyplot as plt\n",
    "\n",
    "data_unique = {\n",
    "    'CustomerToken': _unique_componentidentifiers_per_customertoken_count.index,\n",
    "    'UniqueComponentIdentifiers': _unique_componentidentifiers_per_customertoken_count.values\n",
    "}\n",
    "df = pd.DataFrame(data_unique)\n",
    "\n",
    "data_non_unique = {\n",
    "    'CustomerToken': _components_per_customertoken_count.index,\n",
    "    'ComponentIdentifiers': _components_per_customertoken_count.values\n",
    "}\n",
    "df_non_unique = pd.DataFrame(data_non_unique)\n",
    "\n",
    "# Calculate the component identifiers count for each customer\n",
    "df['ComponentIdentifiersCount'] = df_non_unique['ComponentIdentifiers']\n",
    "\n",
    "# Calculate the unique component identifiers count for each customer\n",
    "df['UniqueComponentIdentifiersCount'] = _unique_componentidentifiers_per_customertoken_count.values\n",
    "\n",
    "# Create a bar chart with the component identifiers count\n",
    "plt.figure(figsize=(12, 6))\n",
    "plt.subplot(1, 2, 1)  # Create a subplot for the bar chart\n",
    "bars = plt.bar(df['CustomerToken'], df['ComponentIdentifiersCount'])\n",
    "plt.xlabel('Customer Token')\n",
    "plt.ylabel('Component Identifiers Count')\n",
    "plt.title('Component Identifiers Count by Customer')\n",
    "\n",
    "# get the total component identifiers count\n",
    "total_component_identifiers_count = df['ComponentIdentifiersCount'].sum()\n",
    "# put the number in the component identifiers count bar chart on the top right\n",
    "plt.text(0.95, 0.95, f\"Total: {total_component_identifiers_count}\", ha='right', va='top', transform=plt.gca().transAxes)\n",
    "\n",
    "# Rotate x-axis labels for better readability\n",
    "plt.xticks(rotation=90)\n",
    "\n",
    "# Add count values above the bars\n",
    "for bar, count in zip(bars, df['ComponentIdentifiersCount']):\n",
    "    plt.text(bar.get_x() + bar.get_width() / 2, bar.get_height() + 10, str(count), ha='center')\n",
    "\n",
    "# Create a bar chart with the unique component identifiers count\n",
    "plt.subplot(1, 2, 2)  # Create a subplot for the bar chart\n",
    "bars = plt.bar(df['CustomerToken'], df['UniqueComponentIdentifiersCount'])\n",
    "plt.xlabel('Customer Token')\n",
    "plt.ylabel('Unique Component Identifiers Count')\n",
    "plt.title('Unique Component Identifiers Count by Customer')\n",
    "\n",
    "# get the total unique component identifiers count\n",
    "total_unique_component_identifiers_count = df['UniqueComponentIdentifiersCount'].sum()\n",
    "# put the number in the unique component identifiers count bar chart on the top right\n",
    "plt.text(0.95, 0.95, f\"Total: {total_unique_component_identifiers_count}\", ha='right', va='top', transform=plt.gca().transAxes)\n",
    "\n",
    "# Rotate x-axis labels for better readability\n",
    "plt.xticks(rotation=90)\n",
    "\n",
    "# Add count values above the bars\n",
    "for bar, count in zip(bars, df['UniqueComponentIdentifiersCount']):\n",
    "\n",
    "    plt.text(bar.get_x() + bar.get_width() / 2, bar.get_height() + 10, str(count), ha='center')\n",
    "\n",
    "# Adjust figure size\n",
    "plt.gcf().set_size_inches(16, 6)\n",
    "\n",
    "# Adjust layout spacing\n",
    "plt.tight_layout()\n",
    "\n",
    "# Show both charts\n",
    "plt.show()\n"
   ]
  },
  {
   "cell_type": "code",
   "execution_count": null,
   "id": "4b9f6630",
   "metadata": {},
   "outputs": [],
   "source": [
    "# how many unique assmbly components are there per customertoken\n",
    "_unique_assembly_components = _components_assembly_df.groupby([\"customertoken\"])[\"compound_article_hash\"].nunique()\n",
    "_unique_assembly_components.to_csv(\"output/unique_assembly_components.csv\",sep=\";\",index_label=[\"customertoken\", \"compound_article_hash\"],encoding=\"utf-8\")\n",
    "\n",
    "# show them in a pie chart\n",
    "from matplotlib import pyplot as plt\n",
    "\n",
    "# Create a bar chart\n",
    "plt.subplot(1, 2, 2)  # Create a subplot for the bar chart\n",
    "bars = plt.bar(_unique_assembly_components.index, _unique_assembly_components)\n",
    "plt.xlabel('Customer Token')\n",
    "plt.ylabel('Unique Assembly Components')\n",
    "plt.title('Unique Assembly Components by Customer')\n",
    "\n",
    "# Rotate x-axis labels for better readability\n",
    "plt.xticks(rotation=90)\n",
    "\n",
    "# Add count values above the bars\n",
    "for bar, count in zip(bars, _unique_assembly_components):\n",
    "    plt.text(bar.get_x() + bar.get_width() / 2, bar.get_height() + 10, str(count), ha='center')\n",
    "\n",
    "# Adjust figure size\n",
    "plt.gcf().set_size_inches(30, 6)\n",
    "\n",
    "# Adjust layout spacing\n",
    "plt.tight_layout()\n",
    "\n",
    "# Show both charts\n",
    "plt.show()"
   ]
  },
  {
   "cell_type": "code",
   "execution_count": null,
   "metadata": {},
   "outputs": [],
   "source": [
    "from matplotlib import pyplot as plt\n",
    "\n",
    "_total_count_components = len(_components_df)\n",
    "_total_count_unique_components = len(_unique_componentidentifiers)\n",
    "_total_count_componts_with_gr = len(_components_df.query(\"componentidentifier.str.startswith('GR')\"))\n",
    "_total_count_componts_with_ir = len(_components_df.query(\"componentidentifier.str.startswith('IR')\"))\n",
    "\n",
    "\n",
    "_plt_df = pd.DataFrame(\n",
    "    {\n",
    "        \"Total Components\": [_total_count_components],\n",
    "        \"Unique Components\": [_total_count_unique_components],\n",
    "        \"Components starting with GR\": [_total_count_componts_with_gr],\n",
    "        \"Components starting with IR\": [_total_count_componts_with_ir],\n",
    "    }\n",
    ")\n",
    "\n",
    "_plt_df.plot(\n",
    "    kind=\"bar\",\n",
    "    stacked=False,\n",
    "    figsize=(8, 6),\n",
    "    legend=True,\n",
    "    fontsize=14,\n",
    "    title=\"Total Components\",\n",
    "    edgecolor=\"black\",\n",
    "    linewidth=1,\n",
    ")\n",
    "plt.legend(loc=\"upper left\", bbox_to_anchor=(1, 1), fontsize=14)\n",
    "plt.text(\n",
    "    -0.21,\n",
    "    0.0,\n",
    "    f\"{_total_count_components}\",\n",
    "    fontsize=14,\n",
    "    color=\"black\",\n",
    "    bbox=dict(facecolor=\"white\", edgecolor=\"black\", boxstyle=\"round,pad=0.1\"),\n",
    ")\n",
    "plt.text(\n",
    "    -0.10,\n",
    "    0.0,\n",
    "    f\"{_total_count_unique_components}\",\n",
    "    fontsize=14,\n",
    "    color=\"black\",\n",
    "    bbox=dict(facecolor=\"white\", edgecolor=\"black\", boxstyle=\"round,pad=0.1\"),\n",
    ")\n",
    "plt.text(\n",
    "    0.04,\n",
    "    0.0,\n",
    "    f\"{_total_count_componts_with_gr}\",\n",
    "    fontsize=14,\n",
    "    color=\"black\",\n",
    "    bbox=dict(facecolor=\"white\", edgecolor=\"black\", boxstyle=\"round,pad=0.1\"),\n",
    ")\n",
    "plt.text(\n",
    "    0.15,\n",
    "    0.0,\n",
    "    f\"{_total_count_componts_with_ir}\",\n",
    "    fontsize=14,\n",
    "    color=\"black\",\n",
    "    bbox=dict(facecolor=\"white\", edgecolor=\"black\", boxstyle=\"round,pad=0.1\"),\n",
    ")\n",
    "plt.savefig(\"total_components.png\", bbox_inches=\"tight\")\n",
    "plt.show()"
   ]
  },
  {
   "cell_type": "code",
   "execution_count": 23,
   "id": "0094750a",
   "metadata": {},
   "outputs": [],
   "source": [
    "\n",
    "from os import sep\n",
    "from lingua import Language, LanguageDetectorBuilder\n",
    "from nltk.tag import pos_tag\n",
    "from nltk.tokenize import TreebankWordTokenizer\n",
    "\n",
    "languages = [Language.ENGLISH, Language.FRENCH, Language.DUTCH]\n",
    "detector = LanguageDetectorBuilder.from_languages(*languages).build()\n",
    "\n",
    "# get the component names\n",
    "_component_names = _components_df[\"componentname\"].to_list()\n",
    "_token_dict = {}\n",
    "_language_dict = {}\n",
    "\n",
    "tokenizer = TreebankWordTokenizer()\n",
    "\n",
    "for comp in _component_names:\n",
    "\n",
    "    lang = detector.detect_language_of(comp)\n",
    "\n",
    "    if lang not in _language_dict:\n",
    "        _language_dict[lang] = 1\n",
    "    else:\n",
    "        _language_dict[lang] += 1\n",
    "\n",
    "    pos = pos_tag(tokenizer.tokenize(comp))\n",
    "\n",
    "    for token in pos:\n",
    "        if token[0] not in _token_dict:\n",
    "            # encapsulate the token in double quotes to prevent the csv from splitting the token\n",
    "            _token_dict[token[0]] = 1\n",
    "        else:\n",
    "            _token_dict[token[0]] += 1\n",
    "\n",
    "# sort the dictionary by value\n",
    "_token_dict = dict(sorted(_token_dict.items(), key=lambda item: item[1], reverse=True))\n",
    "\n",
    "#save the dictionary to a csv file\n",
    "with open('output/token_dict.csv', 'w', encoding=\"utf-8\") as f:\n",
    "    for key in _token_dict.keys():\n",
    "        f.write(f'\"{key}\";\"{_token_dict[key]}\"\\n')\n",
    "with open('output/language_dict.csv', 'w', encoding=\"utf-8\") as f:\n",
    "    for key in _language_dict.keys():\n",
    "        f.write(f'\"{key}\";\"{_language_dict[key]}\"\\n')\n"
   ]
  },
  {
   "cell_type": "code",
   "execution_count": null,
   "id": "044c0c6c",
   "metadata": {},
   "outputs": [],
   "source": [
    "import nltk\n",
    "_measurement_dict = {}\n",
    "\n",
    "for comp in _component_names[:10]:\n",
    "    data = nltk.regexp_tokenize(comp, r'(?:(⌀)\\s*)?(\\d+(\\.\\d+)?)\\s*(m|M|cm|CM|mm|MM)')\n",
    "    if len(data) > 0:\n",
    "        if data[0] not in _measurement_dict:\n",
    "            _measurement_dict[data[0]] = 1\n",
    "            print(f\"{comp} has a measurement of {data[0]}\")\n",
    "        else:\n",
    "            _measurement_dict[data[0]] += 1\n",
    "            print(f\"{comp} has a measurement of {data[0]}\")\n",
    "\n",
    "print(f\"measurement dict: {_measurement_dict}\")"
   ]
  },
  {
   "cell_type": "code",
   "execution_count": null,
   "id": "39aa0a5e",
   "metadata": {},
   "outputs": [],
   "source": [
    "from sklearn.cluster import KMeans\n",
    "\n",
    "# Load spaCy models\n",
    "nlp_en = spacy.load('en_core_web_sm', disable=['parser', 'tagger', 'ner'])\n",
    "nlp_fr = spacy.load('fr_core_news_sm', disable=['parser', 'tagger', 'ner'])\n",
    "nlp_nl = spacy.load('nl_core_news_sm', disable=['parser', 'tagger', 'ner'])\n",
    "\n",
    "# Load your CSV\n",
    "tokens_df = _token_dict\n",
    "\n",
    "# Function to get the average vector representation for a token\n",
    "def get_avg_vector(token):\n",
    "    vec_en = nlp_en(token).vector\n",
    "    vec_fr = nlp_fr(token).vector\n",
    "    vec_nl = nlp_nl(token).vector\n",
    "    return (vec_en + vec_fr + vec_nl) / 3\n",
    "\n",
    "# Get the average vectors for all tokens\n",
    "tokens_df['Vector'] = tokens_df['Token'].apply(get_avg_vector)\n",
    "\n",
    "# Convert the vectors into a matrix for clustering\n",
    "vectors = tokens_df['Vector'].tolist()\n",
    "\n",
    "# Cluster tokens using KMeans\n",
    "num_clusters = 10  # Adjust as needed\n",
    "kmeans = KMeans(n_clusters=num_clusters, random_state=42)\n",
    "tokens_df['Cluster'] = kmeans.fit_predict(vectors)\n",
    "\n",
    "# Display the tokens in each cluster\n",
    "clustered_tokens = tokens_df.groupby('Cluster')['Token'].apply(list)\n",
    "print(clustered_tokens)"
   ]
  }
 ],
 "metadata": {
  "kernelspec": {
   "display_name": "Python 3.10.5 64-bit",
   "language": "python",
   "name": "python3"
  },
  "language_info": {
   "codemirror_mode": {
    "name": "ipython",
    "version": 3
   },
   "file_extension": ".py",
   "mimetype": "text/x-python",
   "name": "python",
   "nbconvert_exporter": "python",
   "pygments_lexer": "ipython3",
   "version": "3.11.6"
  },
  "vscode": {
   "interpreter": {
    "hash": "b0fd892aec1e0e882dc364eef2063214f47933a262cf35d4f9d4106b305a40c7"
   }
  }
 },
 "nbformat": 4,
 "nbformat_minor": 5
}
